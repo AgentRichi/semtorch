{
 "cells": [
  {
   "cell_type": "code",
   "execution_count": 118,
   "id": "b92ce902",
   "metadata": {},
   "outputs": [],
   "source": [
    "from io import BytesIO\n",
    "from zipfile import ZipFile\n",
    "from urllib.request import urlopen\n",
    "import json\n",
    "from pycocotools.coco import COCO\n",
    "from pathlib import Path\n",
    "import requests"
   ]
  },
  {
   "cell_type": "code",
   "execution_count": 20,
   "id": "8c0490f0",
   "metadata": {},
   "outputs": [],
   "source": [
    "COCO_DIR = \"coco\""
   ]
  },
  {
   "cell_type": "code",
   "execution_count": 110,
   "id": "9496c184",
   "metadata": {},
   "outputs": [],
   "source": [
    "def download_annotations(coco_dir,year=2017,annotation_type=\"instances\"):\n",
    "    if isinstance(coco_dir,str):\n",
    "        coco_dir = Path(coco_dir)\n",
    "     \n",
    "    year = str(year)\n",
    "    \n",
    "    print(\"checking if annotations already exist...\")\n",
    "    \n",
    "    annotation_dir = coco_dir/'annotations'\n",
    "    if not annotation_dir.is_dir():\n",
    "        annotation_dir.mkdir()\n",
    "        print(f\"{annotation_dir} directory not found, created it.\")\n",
    "    \n",
    "    train_pth_exists = [s for s in annotation_dir.iterdir() if annotation_type+\"_train\"+year in str(s)]\n",
    "    val_pth_exists = [s for s in annotation_dir.iterdir() if annotation_type+\"_val\"+year in str(s)]\n",
    "    \n",
    "    if len(train_pth_exists)>0 and len(val_pth_exists)>0:\n",
    "        print(f\"found annotations for type '{annotation_type}' from {year} COCO dataset on disk\")\n",
    "        print(\"Done.\")\n",
    "        return train_pth_exists[0],val_pth_exists[0]\n",
    "    \n",
    "    print(f\"downloading annotations for type '{annotation_type}' from {year} COCO dataset...\")\n",
    "    \n",
    "    resp = urlopen(f'http://images.cocodataset.org/annotations/annotations_trainval{year}.zip')\n",
    "    zipfile = ZipFile(BytesIO(resp.read()))\n",
    "    \n",
    "    for filename in zipfile.namelist():\n",
    "        if annotation_type in filename:\n",
    "            filepath = coco_dir/filename\n",
    "            print(f\"saving annotations to {filepath}\")\n",
    "            \n",
    "            if \"train\" in filename:\n",
    "                train_pth = filepath\n",
    "            elif \"val\" in filename:\n",
    "                val_pth = filepath\n",
    "                \n",
    "            with zipfile.open(filename) as f:\n",
    "                data = f.read()\n",
    "                d = json.loads(data)\n",
    "                with open(filepath, \"w\") as fout:\n",
    "                    fout.write(json.dumps(d))\n",
    "    \n",
    "    print(\"Done.\")\n",
    "    return train_pth, val_pth"
   ]
  },
  {
   "cell_type": "code",
   "execution_count": 112,
   "id": "0b6e32fd",
   "metadata": {},
   "outputs": [
    {
     "name": "stdout",
     "output_type": "stream",
     "text": [
      "checking if annotations already exist...\n",
      "downloading annotations for type 'instances' from 2014 COCO dataset...\n",
      "saving annotations to coco/annotations/instances_train2014.json\n",
      "saving annotations to coco/annotations/instances_val2014.json\n",
      "Done.\n"
     ]
    },
    {
     "data": {
      "text/plain": [
       "(PosixPath('coco/annotations/instances_train2014.json'),\n",
       " PosixPath('coco/annotations/instances_val2014.json'))"
      ]
     },
     "execution_count": 112,
     "metadata": {},
     "output_type": "execute_result"
    }
   ],
   "source": [
    "download_annotations(COCO_DIR,2014)"
   ]
  },
  {
   "cell_type": "code",
   "execution_count": 113,
   "id": "cd56cc49",
   "metadata": {},
   "outputs": [
    {
     "name": "stdout",
     "output_type": "stream",
     "text": [
      "loading annotations into memory...\n",
      "Done (t=2.47s)\n",
      "creating index...\n",
      "index created!\n"
     ]
    }
   ],
   "source": [
    "# instantiate COCO specifying the annotations json path\n",
    "coco = COCO('coco/annotations/instances_val2017.json')"
   ]
  },
  {
   "cell_type": "code",
   "execution_count": 121,
   "id": "42cb7757",
   "metadata": {},
   "outputs": [],
   "source": [
    "# Specify a list of category names of interest\n",
    "catIds = coco.getCatIds(catNms=['person','train','horse'])"
   ]
  },
  {
   "cell_type": "code",
   "execution_count": 122,
   "id": "3e502973",
   "metadata": {},
   "outputs": [
    {
     "data": {
      "text/plain": [
       "[1, 7, 19]"
      ]
     },
     "execution_count": 122,
     "metadata": {},
     "output_type": "execute_result"
    }
   ],
   "source": [
    "catIds"
   ]
  },
  {
   "cell_type": "code",
   "execution_count": 123,
   "id": "29a74542",
   "metadata": {},
   "outputs": [],
   "source": [
    "# Get the corresponding image ids and images using loadImgs\n",
    "imgIds = coco.getImgIds(catIds=catIds)\n",
    "images = coco.loadImgs(imgIds)"
   ]
  },
  {
   "cell_type": "code",
   "execution_count": 124,
   "id": "fd39151c",
   "metadata": {},
   "outputs": [
    {
     "data": {
      "text/plain": [
       "[{'license': 3,\n",
       "  'file_name': '000000016228.jpg',\n",
       "  'coco_url': 'http://images.cocodataset.org/val2017/000000016228.jpg',\n",
       "  'height': 440,\n",
       "  'width': 640,\n",
       "  'date_captured': '2013-11-19 00:09:53',\n",
       "  'flickr_url': 'http://farm4.staticflickr.com/3737/10031812195_372ae7538f_z.jpg',\n",
       "  'id': 16228},\n",
       " {'license': 3,\n",
       "  'file_name': '000000148999.jpg',\n",
       "  'coco_url': 'http://images.cocodataset.org/val2017/000000148999.jpg',\n",
       "  'height': 427,\n",
       "  'width': 640,\n",
       "  'date_captured': '2013-11-17 08:17:32',\n",
       "  'flickr_url': 'http://farm3.staticflickr.com/2848/9343952414_29967b3cc4_z.jpg',\n",
       "  'id': 148999}]"
      ]
     },
     "execution_count": 124,
     "metadata": {},
     "output_type": "execute_result"
    }
   ],
   "source": [
    "images"
   ]
  },
  {
   "cell_type": "code",
   "execution_count": 119,
   "id": "c8b63098",
   "metadata": {},
   "outputs": [
    {
     "ename": "FileNotFoundError",
     "evalue": "[Errno 2] No such file or directory: '...path_saved_ims/coco_person/000000148999.jpg'",
     "output_type": "error",
     "traceback": [
      "\u001b[0;31m---------------------------------------------------------------------------\u001b[0m",
      "\u001b[0;31mFileNotFoundError\u001b[0m                         Traceback (most recent call last)",
      "\u001b[0;32m/tmp/ipykernel_158/1509001883.py\u001b[0m in \u001b[0;36m<module>\u001b[0;34m\u001b[0m\n\u001b[1;32m      2\u001b[0m \u001b[0;32mfor\u001b[0m \u001b[0mim\u001b[0m \u001b[0;32min\u001b[0m \u001b[0mimages\u001b[0m\u001b[0;34m:\u001b[0m\u001b[0;34m\u001b[0m\u001b[0;34m\u001b[0m\u001b[0m\n\u001b[1;32m      3\u001b[0m     \u001b[0mimg_data\u001b[0m \u001b[0;34m=\u001b[0m \u001b[0mrequests\u001b[0m\u001b[0;34m.\u001b[0m\u001b[0mget\u001b[0m\u001b[0;34m(\u001b[0m\u001b[0mim\u001b[0m\u001b[0;34m[\u001b[0m\u001b[0;34m'coco_url'\u001b[0m\u001b[0;34m]\u001b[0m\u001b[0;34m)\u001b[0m\u001b[0;34m.\u001b[0m\u001b[0mcontent\u001b[0m\u001b[0;34m\u001b[0m\u001b[0;34m\u001b[0m\u001b[0m\n\u001b[0;32m----> 4\u001b[0;31m     \u001b[0;32mwith\u001b[0m \u001b[0mopen\u001b[0m\u001b[0;34m(\u001b[0m\u001b[0;34m'...path_saved_ims/coco_person/'\u001b[0m \u001b[0;34m+\u001b[0m \u001b[0mim\u001b[0m\u001b[0;34m[\u001b[0m\u001b[0;34m'file_name'\u001b[0m\u001b[0;34m]\u001b[0m\u001b[0;34m,\u001b[0m \u001b[0;34m'wb'\u001b[0m\u001b[0;34m)\u001b[0m \u001b[0;32mas\u001b[0m \u001b[0mhandler\u001b[0m\u001b[0;34m:\u001b[0m\u001b[0;34m\u001b[0m\u001b[0;34m\u001b[0m\u001b[0m\n\u001b[0m\u001b[1;32m      5\u001b[0m         \u001b[0mhandler\u001b[0m\u001b[0;34m.\u001b[0m\u001b[0mwrite\u001b[0m\u001b[0;34m(\u001b[0m\u001b[0mimg_data\u001b[0m\u001b[0;34m)\u001b[0m\u001b[0;34m\u001b[0m\u001b[0;34m\u001b[0m\u001b[0m\n",
      "\u001b[0;31mFileNotFoundError\u001b[0m: [Errno 2] No such file or directory: '...path_saved_ims/coco_person/000000148999.jpg'"
     ]
    }
   ],
   "source": [
    "# Save the images into a local folder\n",
    "for im in images:\n",
    "    img_data = requests.get(im['coco_url']).content\n",
    "    with open('...path_saved_ims/coco_person/' + im['file_name'], 'wb') as handler:\n",
    "        handler.write(img_data)"
   ]
  },
  {
   "cell_type": "code",
   "execution_count": null,
   "id": "c6112921",
   "metadata": {},
   "outputs": [],
   "source": [
    "from pycocotools.coco import COCO\n",
    "import requests\n",
    "\n",
    "# instantiate COCO specifying the annotations json path\n",
    "coco = COCO('...path_to_annotations/instances_train2014.json')\n",
    "# Specify a list of category names of interest\n",
    "catIds = coco.getCatIds(catNms=['person'])"
   ]
  },
  {
   "cell_type": "code",
   "execution_count": null,
   "id": "3cb14f97",
   "metadata": {},
   "outputs": [],
   "source": []
  },
  {
   "cell_type": "code",
   "execution_count": null,
   "id": "ecedc5f6",
   "metadata": {},
   "outputs": [],
   "source": [
    "dataset"
   ]
  },
  {
   "cell_type": "code",
   "execution_count": null,
   "id": "9a5dcdc4",
   "metadata": {},
   "outputs": [],
   "source": []
  }
 ],
 "metadata": {
  "kernelspec": {
   "display_name": "Python 3 (ipykernel)",
   "language": "python",
   "name": "python3"
  },
  "language_info": {
   "codemirror_mode": {
    "name": "ipython",
    "version": 3
   },
   "file_extension": ".py",
   "mimetype": "text/x-python",
   "name": "python",
   "nbconvert_exporter": "python",
   "pygments_lexer": "ipython3",
   "version": "3.7.11"
  }
 },
 "nbformat": 4,
 "nbformat_minor": 5
}
